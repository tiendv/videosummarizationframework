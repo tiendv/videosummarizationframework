{
 "cells": [
  {
   "cell_type": "code",
   "execution_count": 10,
   "metadata": {
    "colab": {
     "base_uri": "https://localhost:8080/",
     "height": 34
    },
    "colab_type": "code",
    "id": "hsZaox9hAvoH",
    "outputId": "ff46950f-3c7a-403d-ca85-8699ebe982aa"
   },
   "outputs": [
    {
     "name": "stdout",
     "output_type": "stream",
     "text": [
      "['/bin/bash: line 0: cd: caffe/python: No such file or directory']\n"
     ]
    }
   ],
   "source": [
    "import os\n",
    "import numpy as np\n",
    "import matplotlib.pyplot as plt\n",
    "%matplotlib inline\n",
    "import skimage\n",
    "\n",
    "caffe_root = !cd caffe/python && pwd\n",
    "print(caffe_root)\n",
    "import sys\n",
    "sys.path.insert(0, caffe_root[0])  \n",
    "\n",
    "import caffe\n",
    "\n",
    "plt.rcParams['figure.figsize'] = (10, 10)\n",
    "plt.rcParams['image.interpolation'] = 'nearest'\n",
    "plt.rcParams['image.cmap'] = 'gray'\n",
    "\n",
    "\n",
    "DEMO_DIR = '.'\n",
    "\n",
    "categories = [ 'Angry' , 'Disgust' , 'Fear' , 'Happy'  , 'Neutral' ,  'Sad' , 'Surprise']"
   ]
  },
  {
   "cell_type": "code",
   "execution_count": 0,
   "metadata": {
    "colab": {},
    "colab_type": "code",
    "id": "0wftCwxKDt62"
   },
   "outputs": [],
   "source": [
    "def showimage(im):\n",
    "    if im.ndim == 3:\n",
    "        im = im[:, :, ::-1]\n",
    "    plt.set_cmap('jet')\n",
    "    plt.imshow(im,vmin=0, vmax=0.2)\n",
    "    \n",
    "\n",
    "def vis_square(data, padsize=1, padval=0):\n",
    "    data -= data.min()\n",
    "    data /= data.max()\n",
    "    \n",
    "    # force the number of filters to be square\n",
    "    n = int(np.ceil(np.sqrt(data.shape[0])))\n",
    "    padding = ((0, n ** 2 - data.shape[0]), (0, padsize), (0, padsize)) + ((0, 0),) * (data.ndim - 3)\n",
    "    data = np.pad(data, padding, mode='constant', constant_values=(padval, padval))\n",
    "    \n",
    "    # tile the filters into an image\n",
    "    data = data.reshape((n, n) + data.shape[1:]).transpose((0, 2, 1, 3) + tuple(range(4, data.ndim + 1)))\n",
    "    data = data.reshape((n * data.shape[1], n * data.shape[3]) + data.shape[4:])\n",
    "    \n",
    "    showimage(data)"
   ]
  },
  {
   "cell_type": "code",
   "execution_count": 7,
   "metadata": {
    "colab": {
     "base_uri": "https://localhost:8080/",
     "height": 34
    },
    "colab_type": "code",
    "id": "obyZ6tWBDxye",
    "outputId": "426e16db-bd6f-48e5-a81d-bf848c6fb2f8"
   },
   "outputs": [
    {
     "name": "stdout",
     "output_type": "stream",
     "text": [
      "predicted category is Disgust\n"
     ]
    }
   ],
   "source": [
    "  cur_net_dir = 'VGG_S_rgb'\n",
    "\n",
    "  mean_filename=os.path.join(DEMO_DIR,cur_net_dir,'mean.binaryproto')\n",
    "  proto_data = open(mean_filename, \"rb\").read()\n",
    "  a = caffe.io.caffe_pb2.BlobProto.FromString(proto_data)\n",
    "  mean  = caffe.io.blobproto_to_array(a)[0]\n",
    "\n",
    "  net_pretrained = os.path.join(DEMO_DIR,cur_net_dir,'EmotiW_VGG_S.caffemodel')\n",
    "  net_model_file = os.path.join(DEMO_DIR,cur_net_dir,'deploy.prototxt')\n",
    "  VGG_S_Net = caffe.Classifier(net_model_file, net_pretrained,\n",
    "                        mean=mean,\n",
    "                        channel_swap=(2,1,0),\n",
    "                        raw_scale=255,\n",
    "                        image_dims=(256, 256))\n",
    "\n",
    "  #input_image = caffe.io.load_image(os.path.join(DEMO_DIR,cur_net_dir,'demo_image.png'))\n",
    "  input_image = skimage.img_as_float(skimage.io.imread(os.path.join(DEMO_DIR,cur_net_dir,'demo_image.png'))).astype(np.float32)\n",
    "  prediction = VGG_S_Net.predict([input_image],oversample=False)\n",
    "  print (('predicted category is {0}').format(categories[prediction.argmax()]))"
   ]
  }
 ],
 "metadata": {
  "accelerator": "GPU",
  "colab": {
   "name": "Untitled0.ipynb",
   "provenance": [],
   "toc_visible": true
  },
  "kernelspec": {
   "display_name": "Python 3",
   "language": "python",
   "name": "python3"
  },
  "language_info": {
   "codemirror_mode": {
    "name": "ipython",
    "version": 3
   },
   "file_extension": ".py",
   "mimetype": "text/x-python",
   "name": "python",
   "nbconvert_exporter": "python",
   "pygments_lexer": "ipython3",
   "version": "3.6.7"
  }
 },
 "nbformat": 4,
 "nbformat_minor": 1
}
