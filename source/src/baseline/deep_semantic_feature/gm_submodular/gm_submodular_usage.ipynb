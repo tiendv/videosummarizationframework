{
 "cells": [
  {
   "cell_type": "markdown",
   "metadata": {},
   "source": [
    "# Package gm_submodular\n",
    "## Example using submodular maximization (K-medoids objective)"
   ]
  },
  {
   "cell_type": "code",
   "execution_count": 1,
   "metadata": {
    "collapsed": false
   },
   "outputs": [
    {
     "name": "stdout",
     "output_type": "stream",
     "text": [
      "Help on package gm_submodular:\n",
      "\n",
      "NAME\n",
      "    gm_submodular\n",
      "\n",
      "FILE\n",
      "    /home/gyglim/code/gm_submodular/gm_submodular/__init__.py\n",
      "\n",
      "DESCRIPTION\n",
      "    This package contains code for submodular maximization and\n",
      "    structured learning using stochastic gradient decent.\n",
      "    It allows to learn an objective function as a linear combination of simpler functions f, i.e.\n",
      "    \n",
      "    .. math:: o(\\mathbf{x_\\mathcal{V}},\\mathbf{y})=\\mathbf{w^\\mathrm{T}}\\mathbf{f}(\\mathbf{x_\\mathcal{V},y}).\n",
      "    This is known as the structured SVM problem.\n",
      "    \n",
      "    In this package, we use stochastic gradient descent in combination with specialized algorithms for submodular maximization.\n",
      "    In particular, it implements the algorithms of [1,2,4] and allows to use AdaGrad [6,7] in the optimization.\n",
      "    Furthermore it allows to use supermodular loss functions, by approximating them using a variant\n",
      "    of a submodular-supermodular procedure based on [5].\n",
      "    \n",
      "    \n",
      "    You can find an example on how to do submodular maximization and structured learning\n",
      "    `HERE <http://www.vision.ee.ethz.ch/~gyglim/gm_submodular/gm_submodular_usage.html>`_.\n",
      "    \n",
      "    \n",
      "    If you use this code for your research, please cite [3]:\n",
      "    \n",
      "    @inproceedings{GygliCVPR15,\n",
      "       author ={Gygli, Michael and Grabner, Helmut and Van Gool, Luc},\n",
      "       title = {Video Summarization by Learning Submodular Mixtures of Objectives},\n",
      "       booktitle = {CVPR},\n",
      "       year = {2015}\n",
      "    }\n",
      "    \n",
      "    REFERENCES:\n",
      "    \n",
      "    [1] Lin, H. & Bilmes, J. Learning mixtures of submodular shells with application to document summarization. UAI 2012\n",
      "    \n",
      "    [2] Leskovec, J., Krause, A., Guestrin, C., Faloutsos, C., VanBriesen, J., & Glance, N. Cost-effective outbreak detection in networks. ACM SIGKDD 2007\n",
      "    \n",
      "    [3] Gygli, M., Grabner, H., & Gool, L. Van. Video Summarization by Learning Submodular Mixtures of Objectives. CVPR 2015\n",
      "    \n",
      "    [4] Minoux, M. . Accelerated greedy algorithms for maximizing submodular set functions. Optimization Techniques. 1978\n",
      "    \n",
      "    [5] Narasimhan, M., & Bilmes, J. A submodular-supermodular procedure with applications to discriminative structure learning. UAI. 2005\n",
      "    \n",
      "    [6] Duchi, J., Hazan, E., & Singer. Adaptive Subgradient Methods for Online Learning and Stochastic Optimization. Journal of Machine Learning Research 2011\n",
      "    \n",
      "    [7] Dyer, C. Notes on AdaGrad\n",
      "\n",
      "PACKAGE CONTENTS\n",
      "    example_objectives\n",
      "    utils\n",
      "\n",
      "CLASSES\n",
      "    DataElement\n",
      "    SGDparams\n",
      "    \n",
      "    class DataElement\n",
      "     |  Defines a DataElement.\n",
      "     |  For inference, this needs the function getCosts(), and a set Y (candidate elements).\n",
      "     |  \n",
      "     |  Methods defined here:\n",
      "     |  \n",
      "     |  __init__(self)\n",
      "     |  \n",
      "     |  __str__(self)\n",
      "     |  \n",
      "     |  getCosts(self)\n",
      "    \n",
      "    class SGDparams\n",
      "     |  Class for the parameters of stochastic gradient descent used for learnSubmodularMixture\n",
      "     |  \n",
      "     |  Methods defined here:\n",
      "     |  \n",
      "     |  __init__(self, **kwargs)\n",
      "     |  \n",
      "     |  __str__(self)\n",
      "\n",
      "FUNCTIONS\n",
      "    lazy_greedy_maximize(S, w, submod_fun, budget, loss_fun=None, useCost=False, randomize=True)\n",
      "        Implements the submodular maximization algorithm of [4]\n",
      "        \n",
      "        :param S: data object containing information on needed in the objective functions\n",
      "        :param w: weights of the objectives\n",
      "        :param submod_fun: submodular functions\n",
      "        :param budget: budget\n",
      "        :param loss_fun: optional loss function (for learning)\n",
      "        :param useCost: boolean. Take into account the costs per element or not\n",
      "        :param randomize: randomize marginals brefore getting the maximum. This results in selecting a random element among the top scoring ones, rather then taking the one with the lowest index.\n",
      "        :return: y, score: selected indices y and the score of the solution\n",
      "    \n",
      "    learnSubmodularMixture(training_data, submod_shells, loss_fun, params=None, loss_supermodular=False)\n",
      "        Learns mixture weights of submodular functions. This code implements algorithm 1 of [1]\n",
      "        \n",
      "        :param training_data: training data. S[t].Y:             indices of possible set elements\n",
      "                          S[t].y_gt:          indices selected in the ground truth solution\n",
      "                          S[t].budget:        The budget of for this example\n",
      "        :param submod_shells:    A cell containing submodular shell functions\n",
      "                          They need to be of the format submodular_function = shell_function(S[t])\n",
      "        :param   loss_function:    A (submodular) loss\n",
      "        :param   maxIter:          Maximal number of iterations\n",
      "        :param   loss_supermodular: True, if the loss is supermodular. Then, [5] is used for loss-augmented inference\n",
      "        :return: learnt weights, weights per iteration\n",
      "    \n",
      "    leskovec_maximize(S, w, submod_fun, budget, loss_fun=None)\n",
      "        Implements the submodular maximization algorithm of [2]\n",
      "        \n",
      "        :param S: data object containing information on needed in the objective functions\n",
      "        :param w: weights of the objectives\n",
      "        :param submod_fun: submodular functions\n",
      "        :param budget: budget\n",
      "        :param loss_fun: optional loss function (for learning)\n",
      "        :return: y, score: selected indices y and the score of the solution\n",
      "    \n",
      "    modular_approximation(loss, pi, S)\n",
      "        Computes a modular approximation of a loss function. Algorithm based on [5]\n",
      "        \n",
      "        :param loss: the supermodular loss function we want to approximate\n",
      "        :param pi: an ordering on S.Y\n",
      "        :param S: DataElement. needs S.Y\n",
      "        :return:\n",
      "    \n",
      "    submodular_supermodular_maximization(S, w, submod_fun, budget, loss, delta=1e-100)\n",
      "        Does submodular maximization with a supermodular loss. Thus\n",
      "        Optmizes it using a submodular-supermodular procedure.\n",
      "        Algorithm based on [5].\n",
      "        Adapted such that the supermodular loss is apprixmated rather then the submodular objectives\n",
      "        \n",
      "        :param S: DataElement\n",
      "        :param w: objective weights\n",
      "        :param submod_fun: objective functions\n",
      "        :param budget: budget\n",
      "        :param loss: the supermodular loss function\n",
      "        :return: list of selected indices, (approximate) score\n",
      "\n",
      "DATA\n",
      "    __author__ = 'Michael Gygli'\n",
      "    __email__ = 'gygli@vision.ee.ethz.ch'\n",
      "    __license__ = 'BSD licence. If you use this code, please cite Gygli et...\n",
      "    __maintainer__ = 'Michael Gygli'\n",
      "    __version__ = '0.1'\n",
      "    logger = <logging.Logger object>\n",
      "    skipAssertions = False\n",
      "\n",
      "VERSION\n",
      "    0.1\n",
      "\n",
      "AUTHOR\n",
      "    Michael Gygli\n",
      "\n",
      "\n"
     ]
    }
   ],
   "source": [
    "import gm_submodular\n",
    "help(gm_submodular)"
   ]
  },
  {
   "cell_type": "code",
   "execution_count": 2,
   "metadata": {
    "collapsed": true
   },
   "outputs": [],
   "source": [
    "# Load standard packages\n",
    "import matplotlib.pyplot as plt\n",
    "import scipy.spatial.distance as dist\n",
    "import numpy as np\n",
    "%matplotlib inline\n",
    "\n",
    "# Load submodular package\n",
    "import gm_submodular"
   ]
  },
  {
   "cell_type": "code",
   "execution_count": 3,
   "metadata": {
    "collapsed": true
   },
   "outputs": [],
   "source": [
    "# Load examples\n",
    "import gm_submodular.example_objectives as ex"
   ]
  },
  {
   "cell_type": "markdown",
   "metadata": {},
   "source": [
    "### Create a new DataElement\n",
    "Needs datapoints x and the function getDistances (for the k-medoids objective)"
   ]
  },
  {
   "cell_type": "code",
   "execution_count": 4,
   "metadata": {
    "collapsed": true
   },
   "outputs": [],
   "source": [
    "num_points=50\n",
    "class St(gm_submodular.DataElement):\n",
    "    budget=5\n",
    "    x=np.random.rand(num_points,2)\n",
    "    dist_v=dist.pdist(x)\n",
    "    Y=np.ones(num_points)\n",
    "    def getCosts(self):\n",
    "        return np.ones(num_points)\n",
    "    def getDistances(self):\n",
    "        d=dist.squareform(self.dist_v)\n",
    "        return np.multiply(d,d)\n",
    "S=St()"
   ]
  },
  {
   "cell_type": "markdown",
   "metadata": {},
   "source": [
    "### Submodular Inference"
   ]
  },
  {
   "cell_type": "code",
   "execution_count": 5,
   "metadata": {
    "collapsed": true
   },
   "outputs": [],
   "source": [
    "reload(ex)\n",
    "reload(gm_submodular)\n",
    "# Define the desired objectives\n",
    "objectives=[ex.representativeness_shell(S), ex.random_shell(S)]\n",
    "weights=[1,0]\n",
    "\n",
    "# Maximize the objectives\n",
    "selected_elements,score,minoux_bound=gm_submodular.leskovec_maximize(S,weights,objectives,budget=5)"
   ]
  },
  {
   "cell_type": "code",
   "execution_count": 7,
   "metadata": {
    "collapsed": false
   },
   "outputs": [
    {
     "name": "stdout",
     "output_type": "stream",
     "text": [
      "Selected points: 24 15 47 44 43\n"
     ]
    },
    {
     "data": {
      "image/png": "[encoded data removed]",
      "text/plain": [
       "<matplotlib.figure.Figure at 0x7f8e72724050>"
      ]
     },
     "metadata": {},
     "output_type": "display_data"
    }
   ],
   "source": [
    "# Plot results\n",
    "plt.figure(figsize=(12,8)) # Definition of a larger figure (in inches)\n",
    "plt.scatter(S.x[:,0],S.x[:,1], c='blue', alpha=0.66, s=30, linewidths=2)\n",
    "plt.scatter(S.x[selected_elements,0],S.x[selected_elements,1], c='red', s=100, alpha=0.66, linewidths=2)\n",
    "print('Selected points: %s' % ' '.join(map(lambda x: str(x),selected_elements)))\n",
    "plt.title('greedy k-medoids solution');"
   ]
  },
  {
   "cell_type": "markdown",
   "metadata": {},
   "source": [
    "## Learning of Submodular Mixture weights"
   ]
  },
  {
   "cell_type": "code",
   "execution_count": 8,
   "metadata": {
    "collapsed": false
   },
   "outputs": [
    {
     "name": "stdout",
     "output_type": "stream",
     "text": [
      "INFO:gm_submodular:SGDparams\n",
      "-----\n",
      "          use_ada_grad:\tTrue\n",
      "     use_l1_projection:\tTrue\n",
      "              max_iter:\t10\n",
      "          learn_lambda:\tNone\n",
      " norm_objective_scores:\tFalse\n",
      "                    nu:\t<function <lambda> at 0x7f8e788fc9b0>\n",
      "              momentum:\t0.0\n",
      "INFO:gm_submodular:regularizer lambda: 0.284\n",
      "INFO:gm_submodular:Example 0 of 500\n",
      "WARNING:gm_submodular:Iteration 2: l1: Failed to find constraint solution on w\n",
      "INFO:gm_submodular:Example 50 of 500\n",
      "INFO:gm_submodular:Example 100 of 500\n",
      "INFO:gm_submodular:Example 150 of 500\n",
      "INFO:gm_submodular:Example 200 of 500\n",
      "INFO:gm_submodular:Example 250 of 500\n",
      "INFO:gm_submodular:Example 300 of 500\n",
      "INFO:gm_submodular:Example 350 of 500\n",
      "INFO:gm_submodular:Example 400 of 500\n",
      "INFO:gm_submodular:Example 450 of 500\n",
      "WARNING:gm_submodular:Break without convergence\n",
      "\n",
      "INFO:gm_submodular:----------------------------\n",
      "\n",
      "INFO:gm_submodular:Weights:\n",
      "\n",
      "INFO:gm_submodular: representativeness_shell: 99.870%\n",
      "INFO:gm_submodular:         random_shell: 0.010%\n",
      "INFO:gm_submodular:         random_shell: 0.030%\n",
      "INFO:gm_submodular:         random_shell: 0.050%\n",
      "INFO:gm_submodular:         random_shell: 0.040%\n",
      "INFO:gm_submodular:----------------------------\n",
      "\n"
     ]
    },
    {
     "data": {
      "image/png": "[encoded data removed]",
      "text/plain": [
       "<matplotlib.figure.Figure at 0x7f8e726d38d0>"
      ]
     },
     "metadata": {},
     "output_type": "display_data"
    }
   ],
   "source": [
    "# Create tranining data (use result of the k-modoid objective)\n",
    "training_examples=[]\n",
    "reload(gm_submodular)\n",
    "gm_submodular.logger.setLevel('INFO')\n",
    "for i in range(0,50):\n",
    "    S=St()\n",
    "    S.budget=10\n",
    "    S.clusters=np.array(np.random.rand(len(S.x))*5,np.int)\n",
    "    selected_elements,score,_=gm_submodular.leskovec_maximize(S,weights,objectives,S.budget)\n",
    "    S.y_gt=selected_elements\n",
    "    training_examples.append(S)\n",
    "    \n",
    "# Learn the weights. Given that we used the k-medoid results as ground truth, this objective should get all the weight\n",
    "shells=[ex.representativeness_shell,ex.random_shell,ex.random_shell,ex.random_shell,ex.random_shell]\n",
    "loss=ex.intersect_complement_loss\n",
    "\n",
    "# Use AdaGrad and a l-1 semiball projection (leads to sparser solutions, i.e. is more robust to noise)\n",
    "params=gm_submodular.SGDparams(use_l1_projection=True,max_iter=10,use_ada_grad=True)\n",
    "\n",
    "#Alternatively, one could use vanilla SGD\n",
    "#params=gm_submodular.SGDparams()\n",
    "\n",
    "#############\n",
    "# LEARNING\n",
    "# The weights are learnt using SGD (Note: This hardly converges, so define a reasonable number of maximal iterations)\n",
    "# Also, given the stochasticity of the learning, you can expect some variance in the results.\n",
    "####\n",
    "learnt_weights,_=gm_submodular.learnSubmodularMixture(training_examples, shells,loss,params=params)\n",
    "\n",
    "\n",
    "# Plot the learnt weights\n",
    "width = 0.5\n",
    "plt.bar(np.arange(0,len(learnt_weights)),learnt_weights,width)\n",
    "plt.xticks(np.arange(0,len(learnt_weights))+learnt_weights/2., map(lambda x: x.func_name, shells))\n",
    "plt.title('Learnt weights')\n",
    "plt.grid()"
   ]
  },
  {
   "cell_type": "code",
   "execution_count": null,
   "metadata": {
    "collapsed": true
   },
   "outputs": [],
   "source": []
  }
 ],
 "metadata": {
  "kernelspec": {
   "display_name": "Python 2",
   "language": "python",
   "name": "python2"
  },
  "language_info": {
   "codemirror_mode": {
    "name": "ipython",
    "version": 2
   },
   "file_extension": ".py",
   "mimetype": "text/x-python",
   "name": "python",
   "nbconvert_exporter": "python",
   "pygments_lexer": "ipython2",
   "version": "2.7.6"
  }
 },
 "nbformat": 4,
 "nbformat_minor": 2
}
