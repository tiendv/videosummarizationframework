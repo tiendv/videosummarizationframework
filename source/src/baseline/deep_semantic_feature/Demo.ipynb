{
 "cells": [
  {
   "cell_type": "code",
   "execution_count": 1,
   "metadata": {},
   "outputs": [
    {
     "ename": "ImportError",
     "evalue": "No module named chainer.links",
     "output_type": "error",
     "traceback": [
      "\u001b[0;31m---------------------------------------------------------------------------\u001b[0m",
      "\u001b[0;31mImportError\u001b[0m                               Traceback (most recent call last)",
      "\u001b[0;32m<ipython-input-1-9bf8513737fa>\u001b[0m in \u001b[0;36m<module>\u001b[0;34m()\u001b[0m\n\u001b[1;32m      3\u001b[0m \u001b[0;32mimport\u001b[0m \u001b[0mjson\u001b[0m\u001b[0;34m\u001b[0m\u001b[0m\n\u001b[1;32m      4\u001b[0m \u001b[0;34m\u001b[0m\u001b[0m\n\u001b[0;32m----> 5\u001b[0;31m \u001b[0;32mfrom\u001b[0m \u001b[0mfunc\u001b[0m\u001b[0;34m.\u001b[0m\u001b[0mnets\u001b[0m \u001b[0;32mimport\u001b[0m \u001b[0mvid_enc\u001b[0m\u001b[0;34m,\u001b[0m \u001b[0mvid_enc_vgg19\u001b[0m\u001b[0;34m\u001b[0m\u001b[0m\n\u001b[0m\u001b[1;32m      6\u001b[0m \u001b[0;32mfrom\u001b[0m \u001b[0mchainer\u001b[0m \u001b[0;32mimport\u001b[0m \u001b[0mserializers\u001b[0m\u001b[0;34m\u001b[0m\u001b[0m\n\u001b[1;32m      7\u001b[0m \u001b[0;34m\u001b[0m\u001b[0m\n",
      "\u001b[0;32m/home/minhtri/mysite/VideoSummarization/test/vsum_dsf/func/nets/vid_enc.py\u001b[0m in \u001b[0;36m<module>\u001b[0;34m()\u001b[0m\n\u001b[0;32m----> 1\u001b[0;31m \u001b[0;32mimport\u001b[0m \u001b[0mchainer\u001b[0m\u001b[0;34m.\u001b[0m\u001b[0mlinks\u001b[0m \u001b[0;32mas\u001b[0m \u001b[0mL\u001b[0m\u001b[0;34m\u001b[0m\u001b[0m\n\u001b[0m\u001b[1;32m      2\u001b[0m \u001b[0;32mimport\u001b[0m \u001b[0mchainer\u001b[0m\u001b[0;34m.\u001b[0m\u001b[0mfunctions\u001b[0m \u001b[0;32mas\u001b[0m \u001b[0mF\u001b[0m\u001b[0;34m\u001b[0m\u001b[0m\n\u001b[1;32m      3\u001b[0m \u001b[0;32mfrom\u001b[0m \u001b[0mchainer\u001b[0m \u001b[0;32mimport\u001b[0m \u001b[0mcuda\u001b[0m\u001b[0;34m,\u001b[0m \u001b[0mserializers\u001b[0m\u001b[0;34m,\u001b[0m \u001b[0mChain\u001b[0m\u001b[0;34m,\u001b[0m \u001b[0mVariable\u001b[0m\u001b[0;34m\u001b[0m\u001b[0m\n\u001b[1;32m      4\u001b[0m \u001b[0;32mfrom\u001b[0m \u001b[0mos\u001b[0m\u001b[0;34m.\u001b[0m\u001b[0mpath\u001b[0m \u001b[0;32mimport\u001b[0m \u001b[0mdirname\u001b[0m\u001b[0;34m\u001b[0m\u001b[0m\n\u001b[1;32m      5\u001b[0m \u001b[0;32mimport\u001b[0m \u001b[0mjson\u001b[0m\u001b[0;34m\u001b[0m\u001b[0m\n",
      "\u001b[0;31mImportError\u001b[0m: No module named chainer.links"
     ]
    }
   ],
   "source": [
    "import numpy as np\n",
    "import os\n",
    "import json\n",
    "\n",
    "from func.nets import vid_enc, vid_enc_vgg19\n",
    "from chainer import serializers\n",
    "\n",
    "import sys\n",
    "sys.path.append('script/')\n",
    "from summarize import get_flabel\n",
    "from func.sampling.vsum import VSUM\n",
    "\n",
    "import chainer\n",
    "from chainer import configuration"
   ]
  },
  {
   "cell_type": "code",
   "execution_count": null,
   "metadata": {},
   "outputs": [],
   "source": [
    "# settings\n",
    "feat_type = 'smt_feat' # smt_feat (proposed) or vgg\n",
    "\n",
    "# load embedding model\n",
    "if feat_type == 'smt_feat':\n",
    "    model = vid_enc.Model()\n",
    "    serializers.load_npz('data/trained_model/model_par', model)\n",
    "elif feat_type == 'vgg':\n",
    "    model = vid_enc_vgg19.Model()\n",
    "else:\n",
    "    raise RuntimeError('[invalid feat_type] use smt_feat or vgg')"
   ]
  },
  {
   "cell_type": "code",
   "execution_count": null,
   "metadata": {},
   "outputs": [],
   "source": [
    "# prepair output dir\n",
    "d_name = 'summe'\n",
    "dataset_root = 'data/{}/'.format(d_name)\n",
    "out_dir = 'results/{:}/{:}/'.format(d_name, feat_type)\n",
    "print 'save to: ', out_dir\n",
    "\n",
    "if not os.path.exists(out_dir):\n",
    "    os.makedirs(out_dir)"
   ]
  },
  {
   "cell_type": "code",
   "execution_count": null,
   "metadata": {},
   "outputs": [],
   "source": [
    "# load dataset metadata\n",
    "dataset = json.load(open(dataset_root + 'dataset.json'))\n",
    "video_id = [d['videoID'] for d in dataset]\n",
    "\n",
    "print 'Video list:'\n",
    "for vi in video_id:\n",
    "    print '-', vi"
   ]
  },
  {
   "cell_type": "code",
   "execution_count": null,
   "metadata": {},
   "outputs": [],
   "source": [
    "# summarize video\n",
    "v_id = 'Cooking'\n",
    "\n",
    "with configuration.using_config('train', False):\n",
    "    with chainer.no_backprop_mode():\n",
    "        vsum = VSUM(v_id, model, dataset=d_name, seg_l=5)\n",
    "\n",
    "_, frames, _ = vsum.summarizeRep(seg_l=5, weights=[1.0, 0.0])\n",
    "\n",
    "# get 0/1 label for each frame\n",
    "fps = vsum.dataset.data['fps']\n",
    "fnum = vsum.dataset.data['fnum']\n",
    "label = get_flabel(frames, fnum, fps, seg_l=5)"
   ]
  },
  {
   "cell_type": "code",
   "execution_count": null,
   "metadata": {},
   "outputs": [],
   "source": [
    "# write summarized video\n",
    "from skvideo.io import vread, vwrite\n",
    "\n",
    "video_path = '/home/mayu-ot/Data/Dataset/summe/video/%s.webm' % v_id\n",
    "\n",
    "video_data = vread(video_path)\n",
    "sum_vid = video_data[label.ravel().astype(np.bool), :,:,:]\n",
    "\n",
    "print 'writing video to', 'sum_%s.mp4'%v_id\n",
    "vwrite('sum_%s.mp4'%v_id, sum_vid)"
   ]
  }
 ],
 "metadata": {
  "anaconda-cloud": {},
  "kernelspec": {
   "display_name": "Python 2",
   "language": "python",
   "name": "python2"
  },
  "language_info": {
   "codemirror_mode": {
    "name": "ipython",
    "version": 2
   },
   "file_extension": ".py",
   "mimetype": "text/x-python",
   "name": "python",
   "nbconvert_exporter": "python",
   "pygments_lexer": "ipython2",
   "version": "2.7.16"
  }
 },
 "nbformat": 4,
 "nbformat_minor": 1
}
